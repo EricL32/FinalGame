{
 "cells": [
  {
   "cell_type": "markdown",
   "id": "3b4c8ebb",
   "metadata": {},
   "source": [
    "# Pygame: Adding Background Music to a Python Game\n",
    "https://www.askpython.com/python-modules/pygame-adding-background-music"
   ]
  },
  {
   "cell_type": "code",
   "execution_count": 3,
   "id": "02287da8",
   "metadata": {},
   "outputs": [],
   "source": [
    "import pygame\n",
    "from pygame.locals import *\n",
    "from pygame import mixer\n",
    " \n",
    "pygame.init()\n",
    "width = 1000\n",
    "height = 500\n",
    "window = pygame.display.set_mode((width,height))\n",
    "bg_img = pygame.image.load('images/bg.png')\n",
    "bg_img = pygame.transform.scale(bg_img,(width,height))\n",
    " \n",
    "mixer.init()\n",
    "mixer.music.load('music/bensound-summer_mp3_music.mp3')\n",
    "mixer.music.play()\n",
    " \n",
    "runing = True\n",
    "while runing:\n",
    "    window.blit(bg_img,(0,0))\n",
    "    for event in pygame.event.get():\n",
    "        if event.type == QUIT:\n",
    "            runing = False\n",
    "    pygame.display.update()\n",
    "pygame.quit()"
   ]
  },
  {
   "cell_type": "markdown",
   "id": "be4c803d",
   "metadata": {},
   "source": [
    "# Controlling music in Pygame"
   ]
  },
  {
   "cell_type": "code",
   "execution_count": null,
   "id": "bf6079f3",
   "metadata": {},
   "outputs": [],
   "source": [
    "# function to load, play, and stop music\n",
    "def crash():\n",
    "    ####################################\n",
    "    pygame.mixer.Sound.play(crash_sound)\n",
    "    pygame.mixer.music.stop()\n",
    "    ####################################\n",
    "    largeText = pygame.font.SysFont(\"comicsansms\",115)\n",
    "    TextSurf, TextRect = text_objects(\"You Crashed\", largeText)"
   ]
  },
  {
   "cell_type": "code",
   "execution_count": null,
   "id": "db1fcaec",
   "metadata": {},
   "outputs": [],
   "source": [
    "# function to pause music\n",
    "def paused():\n",
    "    ############\n",
    "    pygame.mixer.music.pause()\n",
    "    #############"
   ]
  },
  {
   "cell_type": "code",
   "execution_count": null,
   "id": "11d2877d",
   "metadata": {},
   "outputs": [],
   "source": [
    "# function to unpause music\n",
    "def unpause():\n",
    "    global pause\n",
    "    #################\n",
    "    pygame.mixer.music.unpause()\n",
    "    #################\n",
    "    pause = False"
   ]
  }
 ],
 "metadata": {
  "kernelspec": {
   "display_name": "Python 3 (ipykernel)",
   "language": "python",
   "name": "python3"
  },
  "language_info": {
   "codemirror_mode": {
    "name": "ipython",
    "version": 3
   },
   "file_extension": ".py",
   "mimetype": "text/x-python",
   "name": "python",
   "nbconvert_exporter": "python",
   "pygments_lexer": "ipython3",
   "version": "3.9.12"
  }
 },
 "nbformat": 4,
 "nbformat_minor": 5
}
